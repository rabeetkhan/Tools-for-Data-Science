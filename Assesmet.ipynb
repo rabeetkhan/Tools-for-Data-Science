{
  "metadata": {
    "language_info": {
      "codemirror_mode": {
        "name": "python",
        "version": 3
      },
      "file_extension": ".py",
      "mimetype": "text/x-python",
      "name": "python",
      "nbconvert_exporter": "python",
      "pygments_lexer": "ipython3",
      "version": "3.8"
    },
    "kernelspec": {
      "name": "python",
      "display_name": "Pyolite",
      "language": "python"
    }
  },
  "nbformat_minor": 4,
  "nbformat": 4,
  "cells": [
    {
      "cell_type": "markdown",
      "source": "# My Jupyter Notebook on IBM Watson Studio",
      "metadata": {}
    },
    {
      "cell_type": "markdown",
      "source": "**Rabeet Ali Khan** My disired occupation is to be a Data Scientist",
      "metadata": {}
    },
    {
      "cell_type": "markdown",
      "source": "*I am interested in Ai and want to deal with bog data*",
      "metadata": {}
    },
    {
      "cell_type": "markdown",
      "source": "### Below the code will be related to conditional statement ",
      "metadata": {}
    },
    {
      "cell_type": "code",
      "source": "a = 5\nb = 7\nif a > b:\n    print(\"a is greater then b\")\n    \nelse:\n    print(\"b is greater then a\")",
      "metadata": {
        "trusted": true
      },
      "execution_count": 6,
      "outputs": [
        {
          "name": "stdout",
          "text": "b is greater then a\n",
          "output_type": "stream"
        }
      ]
    },
    {
      "cell_type": "markdown",
      "source": "[Data Science](#section-title)\n\n- Main Courses for Data Science\n     - Python for Data Science\n     - SQL Data Base for Data Science\n     - Statistics & Probability\n     - Machine Learning\n     - Algorithms\n     \n* Main Skills for Data Science \n1. Programing & Data Base\n2. Analaytical and Story Telling\n3. Machine learning\n4. Mathematics",
      "metadata": {}
    },
    {
      "cell_type": "markdown",
      "source": "## Data Science Languages\n- List for Data Science Languages\n  - Rust\n  - Python",
      "metadata": {}
    },
    {
      "cell_type": "markdown",
      "source": "### Data Science Librabries\n- List for Libraries\n  - Numpy\n  - pandas\n  - matplotlib",
      "metadata": {}
    },
    {
      "cell_type": "markdown",
      "source": "## Tools for Data Science\n|Tools| Work|\n|---|---|\n| Jupiter Notebook | IDE for Python |\n|RStudio | IDE for Rust (R Language)|\n|IBM Watson Studio| For Virtual Envoronment having Data Sets and Machine learning models|\n|Tableu | Visualization of Data|",
      "metadata": {}
    },
    {
      "cell_type": "code",
      "source": "2 + 3",
      "metadata": {
        "trusted": true
      },
      "execution_count": 6,
      "outputs": [
        {
          "execution_count": 6,
          "output_type": "execute_result",
          "data": {
            "text/plain": "5"
          },
          "metadata": {}
        }
      ]
    },
    {
      "cell_type": "code",
      "source": "a = 5\nb = 2\nc = 10\n\nd = a * b\ne = d + c\n\nprint(d)\nprint(e)",
      "metadata": {
        "trusted": true
      },
      "execution_count": 7,
      "outputs": [
        {
          "name": "stdout",
          "text": "10\n20\n",
          "output_type": "stream"
        }
      ]
    },
    {
      "cell_type": "code",
      "source": "# Converting minutes into Hours\n\nmins = 30\nhour = mins/60\n\nprint(hour)",
      "metadata": {
        "trusted": true
      },
      "execution_count": 8,
      "outputs": [
        {
          "name": "stdout",
          "text": "0.5\n",
          "output_type": "stream"
        }
      ]
    },
    {
      "cell_type": "markdown",
      "source": "### Unordered List\n- Days\n  - Mon\n  - Wed\n  - Fri\n  - Tues\n  - Wed\n  - Thurs",
      "metadata": {}
    },
    {
      "cell_type": "markdown",
      "source": "## Author\n##### Rabeet Ali Khan",
      "metadata": {}
    },
    {
      "cell_type": "code",
      "source": "",
      "metadata": {},
      "execution_count": null,
      "outputs": []
    }
  ]
}